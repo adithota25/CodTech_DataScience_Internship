{
 "cells": [
  {
   "cell_type": "code",
   "execution_count": null,
   "id": "c0cbd43f",
   "metadata": {},
   "outputs": [],
   "source": [
    "# 📌 TASK 1: ETL Pipeline using Titanic Dataset\n",
    "\n",
    "# Step 1: Import Libraries\n",
    "import pandas as pd\n",
    "import numpy as np\n",
    "from sklearn.preprocessing import LabelEncoder, StandardScaler\n"
   ]
  },
  {
   "cell_type": "code",
   "execution_count": null,
   "id": "9ca01cac",
   "metadata": {},
   "outputs": [],
   "source": [
    "# Step 2: Load Dataset\n",
    "url = \"https://raw.githubusercontent.com/datasciencedojo/datasets/master/titanic.csv\"\n",
    "df = pd.read_csv(url)\n",
    "print(\"✅ Data loaded successfully\")\n",
    "df.head()\n"
   ]
  },
  {
   "cell_type": "code",
   "execution_count": null,
   "id": "b3d60f43",
   "metadata": {},
   "outputs": [],
   "source": [
    "# Step 3: Check for Missing Values\n",
    "df.isnull().sum()\n"
   ]
  },
  {
   "cell_type": "code",
   "execution_count": null,
   "id": "7457a9f0",
   "metadata": {},
   "outputs": [],
   "source": [
    "# Step 4: Fill Missing Values (Safe way without FutureWarning)\n",
    "df['Age'] = df['Age'].fillna(df['Age'].median())\n",
    "df['Embarked'] = df['Embarked'].fillna(df['Embarked'].mode()[0])\n",
    "df['Cabin'] = df['Cabin'].fillna('Unknown')\n",
    "print(\"✅ Missing values handled\")\n"
   ]
  },
  {
   "cell_type": "code",
   "execution_count": null,
   "id": "2b6a998b",
   "metadata": {},
   "outputs": [],
   "source": [
    "# Step 5: Encode Categorical Features\n",
    "le = LabelEncoder()\n",
    "df['Sex'] = le.fit_transform(df['Sex'])\n",
    "df['Embarked'] = le.fit_transform(df['Embarked'])\n",
    "df['Cabin'] = df['Cabin'].apply(lambda x: x[0])  # Extract first letter\n",
    "df['Cabin'] = le.fit_transform(df['Cabin'])\n",
    "\n",
    "print(\"✅ Categorical columns encoded\")\n"
   ]
  },
  {
   "cell_type": "code",
   "execution_count": null,
   "id": "eba0c69a",
   "metadata": {},
   "outputs": [],
   "source": [
    "# Step 6: Scale Numeric Features\n",
    "scaler = StandardScaler()\n",
    "numeric_cols = ['Age', 'Fare']\n",
    "df[numeric_cols] = scaler.fit_transform(df[numeric_cols])\n",
    "\n",
    "print(\"✅ Numeric columns scaled\")\n"
   ]
  },
  {
   "cell_type": "code",
   "execution_count": null,
   "id": "627978e0",
   "metadata": {},
   "outputs": [],
   "source": [
    "# Step 7: Export Cleaned Data\n",
    "df.to_csv(\"titanic_cleaned.csv\", index=False)\n",
    "print(\"✅ Cleaned data exported to titanic_cleaned.csv\")\n"
   ]
  }
 ],
 "metadata": {},
 "nbformat": 4,
 "nbformat_minor": 5
}